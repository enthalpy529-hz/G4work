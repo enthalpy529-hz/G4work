{
 "cells": [
  {
   "cell_type": "code",
   "execution_count": 12,
   "metadata": {},
   "outputs": [
    {
     "name": "stdout",
     "output_type": "stream",
     "text": [
      "phy:126\n",
      "\n",
      "chem:104\n",
      "\n"
     ]
    }
   ],
   "source": [
    "f = open('proton/SDDFormat.txt','r')\n",
    "phy = 0\n",
    "chem = 0\n",
    "points = []\n",
    "for line in f.readlines():\n",
    "    a = line.split(' ')\n",
    "    if len(a)!=0:\n",
    "        if a[1]=='phy':\n",
    "            phy = phy+1\n",
    "        else:\n",
    "            chem = chem+1\n",
    "        points.append(int(a[4]))\n",
    "print('phy:'+str(phy)+('\\n'))\n",
    "print('chem:'+str(chem)+('\\n'))"
   ]
  },
  {
   "cell_type": "code",
   "execution_count": 20,
   "metadata": {},
   "outputs": [
    {
     "name": "stdout",
     "output_type": "stream",
     "text": [
      "phy:5\n",
      "\n",
      "chem:17\n",
      "\n"
     ]
    }
   ],
   "source": [
    "f = open('e-/SDDFormat.txt','r')\n",
    "phy = 0\n",
    "chem = 0\n",
    "points = []\n",
    "for line in f.readlines():\n",
    "    a = line.split(' ')\n",
    "    if len(a)>2:\n",
    "        if a[1]=='phy':\n",
    "            phy = phy+1\n",
    "        else:\n",
    "            chem = chem+1\n",
    "        points.append(int(a[4]))\n",
    "print('phy:'+str(phy)+('\\n'))\n",
    "print('chem:'+str(chem)+('\\n'))"
   ]
  },
  {
   "cell_type": "code",
   "execution_count": 7,
   "metadata": {},
   "outputs": [
    {
     "name": "stdout",
     "output_type": "stream",
     "text": [
      "phy:5\n",
      "\n",
      "chem:17\n",
      "\n"
     ]
    }
   ],
   "source": [
    "f = open('e-/SDDFormat.txt','r')\n",
    "phy = 0\n",
    "chem = 0\n",
    "for line in f.readlines():\n",
    "    a = line.split(' ')\n",
    "    if len(a)>2:\n",
    "        if a[1]=='phy':\n",
    "            phy = phy+1\n",
    "        else:\n",
    "            chem = chem+1\n",
    "print('phy:'+str(phy)+('\\n'))\n",
    "print('chem:'+str(chem)+('\\n'))\n"
   ]
  },
  {
   "cell_type": "code",
   "execution_count": 9,
   "metadata": {},
   "outputs": [
    {
     "name": "stdout",
     "output_type": "stream",
     "text": [
      "134\n"
     ]
    }
   ],
   "source": [
    "points = sorted(points)\n",
    "num = 0\n",
    "for i in range(len(points)-1):\n",
    "    if points[i+1]-points[i]<10:\n",
    "        num = num+1\n",
    "print(num)"
   ]
  },
  {
   "cell_type": "code",
   "execution_count": 21,
   "metadata": {},
   "outputs": [],
   "source": [
    "from sklearn.cluster import DBSCAN\n",
    "import numpy as np\n",
    "\n",
    "points_test = np.zeros([len(points),2])\n",
    "for i in range(len(points)):\n",
    "    points_test[i] = points[i]\n",
    "clustering = DBSCAN(eps=10, min_samples=1).fit(points_test)"
   ]
  },
  {
   "cell_type": "code",
   "execution_count": 24,
   "metadata": {},
   "outputs": [],
   "source": [
    "labels = clustering.labels_\n",
    "num = 0\n",
    "for i in range(labels[21]):\n",
    "    a = np.where(labels==i)\n",
    "    if len(a[0])>1:\n",
    "        num = num+1"
   ]
  },
  {
   "cell_type": "code",
   "execution_count": null,
   "metadata": {},
   "outputs": [],
   "source": [
    "p"
   ]
  }
 ],
 "metadata": {
  "kernelspec": {
   "display_name": "env",
   "language": "python",
   "name": "python3"
  },
  "language_info": {
   "codemirror_mode": {
    "name": "ipython",
    "version": 3
   },
   "file_extension": ".py",
   "mimetype": "text/x-python",
   "name": "python",
   "nbconvert_exporter": "python",
   "pygments_lexer": "ipython3",
   "version": "3.6.13"
  },
  "orig_nbformat": 4
 },
 "nbformat": 4,
 "nbformat_minor": 2
}
